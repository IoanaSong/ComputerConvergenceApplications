{
  "nbformat": 4,
  "nbformat_minor": 0,
  "metadata": {
    "colab": {
      "provenance": [],
      "collapsed_sections": [
        "yA_e3j1EuC2I",
        "0RqlkRuBuFqT",
        "z_PCT0JDQ7cP",
        "5m0GC4L3RdNc",
        "0QuRi1TW32Xb"
      ]
    },
    "kernelspec": {
      "name": "python3",
      "display_name": "Python 3"
    },
    "language_info": {
      "name": "python"
    }
  },
  "cells": [
    {
      "cell_type": "code",
      "execution_count": null,
      "metadata": {
        "id": "Wqu3BzIimlSW"
      },
      "outputs": [],
      "source": [
        "import pandas as pd\n",
        "import numpy as np\n",
        "import matplotlib.pyplot as plt\n",
        "\n",
        "from sklearn.decomposition import PCA\n",
        "from sklearn import metrics, datasets, linear_model\n",
        "from sklearn.metrics import mean_squared_error, r2_score\n",
        "from sklearn.model_selection import train_test_split\n",
        "from sklearn.preprocessing import StandardScaler\n",
        "from sklearn.ensemble import RandomForestRegressor\n"
      ]
    },
    {
      "cell_type": "code",
      "source": [
        "dfr = pd.read_csv('/content/winequality-red.csv', sep=';')\n",
        "dfr"
      ],
      "metadata": {
        "colab": {
          "base_uri": "https://localhost:8080/",
          "height": 428
        },
        "id": "xTjR0Xzms1mH",
        "outputId": "4ccef3c3-ab4a-4cab-ce03-1780358952ef"
      },
      "execution_count": null,
      "outputs": [
        {
          "output_type": "execute_result",
          "data": {
            "text/plain": [
              "      fixed acidity  volatile acidity  citric acid  residual sugar  chlorides  \\\n",
              "0               7.4             0.700         0.00             1.9      0.076   \n",
              "1               7.8             0.880         0.00             2.6      0.098   \n",
              "2               7.8             0.760         0.04             2.3      0.092   \n",
              "3              11.2             0.280         0.56             1.9      0.075   \n",
              "4               7.4             0.700         0.00             1.9      0.076   \n",
              "...             ...               ...          ...             ...        ...   \n",
              "1594            6.2             0.600         0.08             2.0      0.090   \n",
              "1595            5.9             0.550         0.10             2.2      0.062   \n",
              "1596            6.3             0.510         0.13             2.3      0.076   \n",
              "1597            5.9             0.645         0.12             2.0      0.075   \n",
              "1598            6.0             0.310         0.47             3.6      0.067   \n",
              "\n",
              "      free sulfur dioxide  total sulfur dioxide  density    pH  sulphates  \\\n",
              "0                    11.0                  34.0  0.99780  3.51       0.56   \n",
              "1                    25.0                  67.0  0.99680  3.20       0.68   \n",
              "2                    15.0                  54.0  0.99700  3.26       0.65   \n",
              "3                    17.0                  60.0  0.99800  3.16       0.58   \n",
              "4                    11.0                  34.0  0.99780  3.51       0.56   \n",
              "...                   ...                   ...      ...   ...        ...   \n",
              "1594                 32.0                  44.0  0.99490  3.45       0.58   \n",
              "1595                 39.0                  51.0  0.99512  3.52       0.76   \n",
              "1596                 29.0                  40.0  0.99574  3.42       0.75   \n",
              "1597                 32.0                  44.0  0.99547  3.57       0.71   \n",
              "1598                 18.0                  42.0  0.99549  3.39       0.66   \n",
              "\n",
              "      alcohol  quality  \n",
              "0         9.4        5  \n",
              "1         9.8        5  \n",
              "2         9.8        5  \n",
              "3         9.8        6  \n",
              "4         9.4        5  \n",
              "...       ...      ...  \n",
              "1594     10.5        5  \n",
              "1595     11.2        6  \n",
              "1596     11.0        6  \n",
              "1597     10.2        5  \n",
              "1598     11.0        6  \n",
              "\n",
              "[1599 rows x 12 columns]"
            ],
            "text/html": [
              "\n",
              "  <div id=\"df-d61fe51b-1038-499f-aa3f-389566a98474\" class=\"colab-df-container\">\n",
              "    <div>\n",
              "<style scoped>\n",
              "    .dataframe tbody tr th:only-of-type {\n",
              "        vertical-align: middle;\n",
              "    }\n",
              "\n",
              "    .dataframe tbody tr th {\n",
              "        vertical-align: top;\n",
              "    }\n",
              "\n",
              "    .dataframe thead th {\n",
              "        text-align: right;\n",
              "    }\n",
              "</style>\n",
              "<table border=\"1\" class=\"dataframe\">\n",
              "  <thead>\n",
              "    <tr style=\"text-align: right;\">\n",
              "      <th></th>\n",
              "      <th>fixed acidity</th>\n",
              "      <th>volatile acidity</th>\n",
              "      <th>citric acid</th>\n",
              "      <th>residual sugar</th>\n",
              "      <th>chlorides</th>\n",
              "      <th>free sulfur dioxide</th>\n",
              "      <th>total sulfur dioxide</th>\n",
              "      <th>density</th>\n",
              "      <th>pH</th>\n",
              "      <th>sulphates</th>\n",
              "      <th>alcohol</th>\n",
              "      <th>quality</th>\n",
              "    </tr>\n",
              "  </thead>\n",
              "  <tbody>\n",
              "    <tr>\n",
              "      <th>0</th>\n",
              "      <td>7.4</td>\n",
              "      <td>0.700</td>\n",
              "      <td>0.00</td>\n",
              "      <td>1.9</td>\n",
              "      <td>0.076</td>\n",
              "      <td>11.0</td>\n",
              "      <td>34.0</td>\n",
              "      <td>0.99780</td>\n",
              "      <td>3.51</td>\n",
              "      <td>0.56</td>\n",
              "      <td>9.4</td>\n",
              "      <td>5</td>\n",
              "    </tr>\n",
              "    <tr>\n",
              "      <th>1</th>\n",
              "      <td>7.8</td>\n",
              "      <td>0.880</td>\n",
              "      <td>0.00</td>\n",
              "      <td>2.6</td>\n",
              "      <td>0.098</td>\n",
              "      <td>25.0</td>\n",
              "      <td>67.0</td>\n",
              "      <td>0.99680</td>\n",
              "      <td>3.20</td>\n",
              "      <td>0.68</td>\n",
              "      <td>9.8</td>\n",
              "      <td>5</td>\n",
              "    </tr>\n",
              "    <tr>\n",
              "      <th>2</th>\n",
              "      <td>7.8</td>\n",
              "      <td>0.760</td>\n",
              "      <td>0.04</td>\n",
              "      <td>2.3</td>\n",
              "      <td>0.092</td>\n",
              "      <td>15.0</td>\n",
              "      <td>54.0</td>\n",
              "      <td>0.99700</td>\n",
              "      <td>3.26</td>\n",
              "      <td>0.65</td>\n",
              "      <td>9.8</td>\n",
              "      <td>5</td>\n",
              "    </tr>\n",
              "    <tr>\n",
              "      <th>3</th>\n",
              "      <td>11.2</td>\n",
              "      <td>0.280</td>\n",
              "      <td>0.56</td>\n",
              "      <td>1.9</td>\n",
              "      <td>0.075</td>\n",
              "      <td>17.0</td>\n",
              "      <td>60.0</td>\n",
              "      <td>0.99800</td>\n",
              "      <td>3.16</td>\n",
              "      <td>0.58</td>\n",
              "      <td>9.8</td>\n",
              "      <td>6</td>\n",
              "    </tr>\n",
              "    <tr>\n",
              "      <th>4</th>\n",
              "      <td>7.4</td>\n",
              "      <td>0.700</td>\n",
              "      <td>0.00</td>\n",
              "      <td>1.9</td>\n",
              "      <td>0.076</td>\n",
              "      <td>11.0</td>\n",
              "      <td>34.0</td>\n",
              "      <td>0.99780</td>\n",
              "      <td>3.51</td>\n",
              "      <td>0.56</td>\n",
              "      <td>9.4</td>\n",
              "      <td>5</td>\n",
              "    </tr>\n",
              "    <tr>\n",
              "      <th>...</th>\n",
              "      <td>...</td>\n",
              "      <td>...</td>\n",
              "      <td>...</td>\n",
              "      <td>...</td>\n",
              "      <td>...</td>\n",
              "      <td>...</td>\n",
              "      <td>...</td>\n",
              "      <td>...</td>\n",
              "      <td>...</td>\n",
              "      <td>...</td>\n",
              "      <td>...</td>\n",
              "      <td>...</td>\n",
              "    </tr>\n",
              "    <tr>\n",
              "      <th>1594</th>\n",
              "      <td>6.2</td>\n",
              "      <td>0.600</td>\n",
              "      <td>0.08</td>\n",
              "      <td>2.0</td>\n",
              "      <td>0.090</td>\n",
              "      <td>32.0</td>\n",
              "      <td>44.0</td>\n",
              "      <td>0.99490</td>\n",
              "      <td>3.45</td>\n",
              "      <td>0.58</td>\n",
              "      <td>10.5</td>\n",
              "      <td>5</td>\n",
              "    </tr>\n",
              "    <tr>\n",
              "      <th>1595</th>\n",
              "      <td>5.9</td>\n",
              "      <td>0.550</td>\n",
              "      <td>0.10</td>\n",
              "      <td>2.2</td>\n",
              "      <td>0.062</td>\n",
              "      <td>39.0</td>\n",
              "      <td>51.0</td>\n",
              "      <td>0.99512</td>\n",
              "      <td>3.52</td>\n",
              "      <td>0.76</td>\n",
              "      <td>11.2</td>\n",
              "      <td>6</td>\n",
              "    </tr>\n",
              "    <tr>\n",
              "      <th>1596</th>\n",
              "      <td>6.3</td>\n",
              "      <td>0.510</td>\n",
              "      <td>0.13</td>\n",
              "      <td>2.3</td>\n",
              "      <td>0.076</td>\n",
              "      <td>29.0</td>\n",
              "      <td>40.0</td>\n",
              "      <td>0.99574</td>\n",
              "      <td>3.42</td>\n",
              "      <td>0.75</td>\n",
              "      <td>11.0</td>\n",
              "      <td>6</td>\n",
              "    </tr>\n",
              "    <tr>\n",
              "      <th>1597</th>\n",
              "      <td>5.9</td>\n",
              "      <td>0.645</td>\n",
              "      <td>0.12</td>\n",
              "      <td>2.0</td>\n",
              "      <td>0.075</td>\n",
              "      <td>32.0</td>\n",
              "      <td>44.0</td>\n",
              "      <td>0.99547</td>\n",
              "      <td>3.57</td>\n",
              "      <td>0.71</td>\n",
              "      <td>10.2</td>\n",
              "      <td>5</td>\n",
              "    </tr>\n",
              "    <tr>\n",
              "      <th>1598</th>\n",
              "      <td>6.0</td>\n",
              "      <td>0.310</td>\n",
              "      <td>0.47</td>\n",
              "      <td>3.6</td>\n",
              "      <td>0.067</td>\n",
              "      <td>18.0</td>\n",
              "      <td>42.0</td>\n",
              "      <td>0.99549</td>\n",
              "      <td>3.39</td>\n",
              "      <td>0.66</td>\n",
              "      <td>11.0</td>\n",
              "      <td>6</td>\n",
              "    </tr>\n",
              "  </tbody>\n",
              "</table>\n",
              "<p>1599 rows × 12 columns</p>\n",
              "</div>\n",
              "    <div class=\"colab-df-buttons\">\n",
              "\n",
              "  <div class=\"colab-df-container\">\n",
              "    <button class=\"colab-df-convert\" onclick=\"convertToInteractive('df-d61fe51b-1038-499f-aa3f-389566a98474')\"\n",
              "            title=\"Convert this dataframe to an interactive table.\"\n",
              "            style=\"display:none;\">\n",
              "\n",
              "  <svg xmlns=\"http://www.w3.org/2000/svg\" height=\"24px\" viewBox=\"0 -960 960 960\">\n",
              "    <path d=\"M120-120v-720h720v720H120Zm60-500h600v-160H180v160Zm220 220h160v-160H400v160Zm0 220h160v-160H400v160ZM180-400h160v-160H180v160Zm440 0h160v-160H620v160ZM180-180h160v-160H180v160Zm440 0h160v-160H620v160Z\"/>\n",
              "  </svg>\n",
              "    </button>\n",
              "\n",
              "  <style>\n",
              "    .colab-df-container {\n",
              "      display:flex;\n",
              "      gap: 12px;\n",
              "    }\n",
              "\n",
              "    .colab-df-convert {\n",
              "      background-color: #E8F0FE;\n",
              "      border: none;\n",
              "      border-radius: 50%;\n",
              "      cursor: pointer;\n",
              "      display: none;\n",
              "      fill: #1967D2;\n",
              "      height: 32px;\n",
              "      padding: 0 0 0 0;\n",
              "      width: 32px;\n",
              "    }\n",
              "\n",
              "    .colab-df-convert:hover {\n",
              "      background-color: #E2EBFA;\n",
              "      box-shadow: 0px 1px 2px rgba(60, 64, 67, 0.3), 0px 1px 3px 1px rgba(60, 64, 67, 0.15);\n",
              "      fill: #174EA6;\n",
              "    }\n",
              "\n",
              "    .colab-df-buttons div {\n",
              "      margin-bottom: 4px;\n",
              "    }\n",
              "\n",
              "    [theme=dark] .colab-df-convert {\n",
              "      background-color: #3B4455;\n",
              "      fill: #D2E3FC;\n",
              "    }\n",
              "\n",
              "    [theme=dark] .colab-df-convert:hover {\n",
              "      background-color: #434B5C;\n",
              "      box-shadow: 0px 1px 3px 1px rgba(0, 0, 0, 0.15);\n",
              "      filter: drop-shadow(0px 1px 2px rgba(0, 0, 0, 0.3));\n",
              "      fill: #FFFFFF;\n",
              "    }\n",
              "  </style>\n",
              "\n",
              "    <script>\n",
              "      const buttonEl =\n",
              "        document.querySelector('#df-d61fe51b-1038-499f-aa3f-389566a98474 button.colab-df-convert');\n",
              "      buttonEl.style.display =\n",
              "        google.colab.kernel.accessAllowed ? 'block' : 'none';\n",
              "\n",
              "      async function convertToInteractive(key) {\n",
              "        const element = document.querySelector('#df-d61fe51b-1038-499f-aa3f-389566a98474');\n",
              "        const dataTable =\n",
              "          await google.colab.kernel.invokeFunction('convertToInteractive',\n",
              "                                                    [key], {});\n",
              "        if (!dataTable) return;\n",
              "\n",
              "        const docLinkHtml = 'Like what you see? Visit the ' +\n",
              "          '<a target=\"_blank\" href=https://colab.research.google.com/notebooks/data_table.ipynb>data table notebook</a>'\n",
              "          + ' to learn more about interactive tables.';\n",
              "        element.innerHTML = '';\n",
              "        dataTable['output_type'] = 'display_data';\n",
              "        await google.colab.output.renderOutput(dataTable, element);\n",
              "        const docLink = document.createElement('div');\n",
              "        docLink.innerHTML = docLinkHtml;\n",
              "        element.appendChild(docLink);\n",
              "      }\n",
              "    </script>\n",
              "  </div>\n",
              "\n",
              "\n",
              "<div id=\"df-71706ab8-58f6-4329-93a8-e7a280fbe2f4\">\n",
              "  <button class=\"colab-df-quickchart\" onclick=\"quickchart('df-71706ab8-58f6-4329-93a8-e7a280fbe2f4')\"\n",
              "            title=\"Suggest charts\"\n",
              "            style=\"display:none;\">\n",
              "\n",
              "<svg xmlns=\"http://www.w3.org/2000/svg\" height=\"24px\"viewBox=\"0 0 24 24\"\n",
              "     width=\"24px\">\n",
              "    <g>\n",
              "        <path d=\"M19 3H5c-1.1 0-2 .9-2 2v14c0 1.1.9 2 2 2h14c1.1 0 2-.9 2-2V5c0-1.1-.9-2-2-2zM9 17H7v-7h2v7zm4 0h-2V7h2v10zm4 0h-2v-4h2v4z\"/>\n",
              "    </g>\n",
              "</svg>\n",
              "  </button>\n",
              "\n",
              "<style>\n",
              "  .colab-df-quickchart {\n",
              "      --bg-color: #E8F0FE;\n",
              "      --fill-color: #1967D2;\n",
              "      --hover-bg-color: #E2EBFA;\n",
              "      --hover-fill-color: #174EA6;\n",
              "      --disabled-fill-color: #AAA;\n",
              "      --disabled-bg-color: #DDD;\n",
              "  }\n",
              "\n",
              "  [theme=dark] .colab-df-quickchart {\n",
              "      --bg-color: #3B4455;\n",
              "      --fill-color: #D2E3FC;\n",
              "      --hover-bg-color: #434B5C;\n",
              "      --hover-fill-color: #FFFFFF;\n",
              "      --disabled-bg-color: #3B4455;\n",
              "      --disabled-fill-color: #666;\n",
              "  }\n",
              "\n",
              "  .colab-df-quickchart {\n",
              "    background-color: var(--bg-color);\n",
              "    border: none;\n",
              "    border-radius: 50%;\n",
              "    cursor: pointer;\n",
              "    display: none;\n",
              "    fill: var(--fill-color);\n",
              "    height: 32px;\n",
              "    padding: 0;\n",
              "    width: 32px;\n",
              "  }\n",
              "\n",
              "  .colab-df-quickchart:hover {\n",
              "    background-color: var(--hover-bg-color);\n",
              "    box-shadow: 0 1px 2px rgba(60, 64, 67, 0.3), 0 1px 3px 1px rgba(60, 64, 67, 0.15);\n",
              "    fill: var(--button-hover-fill-color);\n",
              "  }\n",
              "\n",
              "  .colab-df-quickchart-complete:disabled,\n",
              "  .colab-df-quickchart-complete:disabled:hover {\n",
              "    background-color: var(--disabled-bg-color);\n",
              "    fill: var(--disabled-fill-color);\n",
              "    box-shadow: none;\n",
              "  }\n",
              "\n",
              "  .colab-df-spinner {\n",
              "    border: 2px solid var(--fill-color);\n",
              "    border-color: transparent;\n",
              "    border-bottom-color: var(--fill-color);\n",
              "    animation:\n",
              "      spin 1s steps(1) infinite;\n",
              "  }\n",
              "\n",
              "  @keyframes spin {\n",
              "    0% {\n",
              "      border-color: transparent;\n",
              "      border-bottom-color: var(--fill-color);\n",
              "      border-left-color: var(--fill-color);\n",
              "    }\n",
              "    20% {\n",
              "      border-color: transparent;\n",
              "      border-left-color: var(--fill-color);\n",
              "      border-top-color: var(--fill-color);\n",
              "    }\n",
              "    30% {\n",
              "      border-color: transparent;\n",
              "      border-left-color: var(--fill-color);\n",
              "      border-top-color: var(--fill-color);\n",
              "      border-right-color: var(--fill-color);\n",
              "    }\n",
              "    40% {\n",
              "      border-color: transparent;\n",
              "      border-right-color: var(--fill-color);\n",
              "      border-top-color: var(--fill-color);\n",
              "    }\n",
              "    60% {\n",
              "      border-color: transparent;\n",
              "      border-right-color: var(--fill-color);\n",
              "    }\n",
              "    80% {\n",
              "      border-color: transparent;\n",
              "      border-right-color: var(--fill-color);\n",
              "      border-bottom-color: var(--fill-color);\n",
              "    }\n",
              "    90% {\n",
              "      border-color: transparent;\n",
              "      border-bottom-color: var(--fill-color);\n",
              "    }\n",
              "  }\n",
              "</style>\n",
              "\n",
              "  <script>\n",
              "    async function quickchart(key) {\n",
              "      const quickchartButtonEl =\n",
              "        document.querySelector('#' + key + ' button');\n",
              "      quickchartButtonEl.disabled = true;  // To prevent multiple clicks.\n",
              "      quickchartButtonEl.classList.add('colab-df-spinner');\n",
              "      try {\n",
              "        const charts = await google.colab.kernel.invokeFunction(\n",
              "            'suggestCharts', [key], {});\n",
              "      } catch (error) {\n",
              "        console.error('Error during call to suggestCharts:', error);\n",
              "      }\n",
              "      quickchartButtonEl.classList.remove('colab-df-spinner');\n",
              "      quickchartButtonEl.classList.add('colab-df-quickchart-complete');\n",
              "    }\n",
              "    (() => {\n",
              "      let quickchartButtonEl =\n",
              "        document.querySelector('#df-71706ab8-58f6-4329-93a8-e7a280fbe2f4 button');\n",
              "      quickchartButtonEl.style.display =\n",
              "        google.colab.kernel.accessAllowed ? 'block' : 'none';\n",
              "    })();\n",
              "  </script>\n",
              "</div>\n",
              "\n",
              "  <div id=\"id_f76667cb-5828-4811-b942-46ace4f85ea7\">\n",
              "    <style>\n",
              "      .colab-df-generate {\n",
              "        background-color: #E8F0FE;\n",
              "        border: none;\n",
              "        border-radius: 50%;\n",
              "        cursor: pointer;\n",
              "        display: none;\n",
              "        fill: #1967D2;\n",
              "        height: 32px;\n",
              "        padding: 0 0 0 0;\n",
              "        width: 32px;\n",
              "      }\n",
              "\n",
              "      .colab-df-generate:hover {\n",
              "        background-color: #E2EBFA;\n",
              "        box-shadow: 0px 1px 2px rgba(60, 64, 67, 0.3), 0px 1px 3px 1px rgba(60, 64, 67, 0.15);\n",
              "        fill: #174EA6;\n",
              "      }\n",
              "\n",
              "      [theme=dark] .colab-df-generate {\n",
              "        background-color: #3B4455;\n",
              "        fill: #D2E3FC;\n",
              "      }\n",
              "\n",
              "      [theme=dark] .colab-df-generate:hover {\n",
              "        background-color: #434B5C;\n",
              "        box-shadow: 0px 1px 3px 1px rgba(0, 0, 0, 0.15);\n",
              "        filter: drop-shadow(0px 1px 2px rgba(0, 0, 0, 0.3));\n",
              "        fill: #FFFFFF;\n",
              "      }\n",
              "    </style>\n",
              "    <button class=\"colab-df-generate\" onclick=\"generateWithVariable('dfr')\"\n",
              "            title=\"Generate code using this dataframe.\"\n",
              "            style=\"display:none;\">\n",
              "\n",
              "  <svg xmlns=\"http://www.w3.org/2000/svg\" height=\"24px\"viewBox=\"0 0 24 24\"\n",
              "       width=\"24px\">\n",
              "    <path d=\"M7,19H8.4L18.45,9,17,7.55,7,17.6ZM5,21V16.75L18.45,3.32a2,2,0,0,1,2.83,0l1.4,1.43a1.91,1.91,0,0,1,.58,1.4,1.91,1.91,0,0,1-.58,1.4L9.25,21ZM18.45,9,17,7.55Zm-12,3A5.31,5.31,0,0,0,4.9,8.1,5.31,5.31,0,0,0,1,6.5,5.31,5.31,0,0,0,4.9,4.9,5.31,5.31,0,0,0,6.5,1,5.31,5.31,0,0,0,8.1,4.9,5.31,5.31,0,0,0,12,6.5,5.46,5.46,0,0,0,6.5,12Z\"/>\n",
              "  </svg>\n",
              "    </button>\n",
              "    <script>\n",
              "      (() => {\n",
              "      const buttonEl =\n",
              "        document.querySelector('#id_f76667cb-5828-4811-b942-46ace4f85ea7 button.colab-df-generate');\n",
              "      buttonEl.style.display =\n",
              "        google.colab.kernel.accessAllowed ? 'block' : 'none';\n",
              "\n",
              "      buttonEl.onclick = () => {\n",
              "        google.colab.notebook.generateWithVariable('dfr');\n",
              "      }\n",
              "      })();\n",
              "    </script>\n",
              "  </div>\n",
              "\n",
              "    </div>\n",
              "  </div>\n"
            ]
          },
          "metadata": {},
          "execution_count": 233
        }
      ]
    },
    {
      "cell_type": "code",
      "source": [
        "dfw = pd.read_csv('/content/winequality-white.csv', sep=';')\n",
        "dfw"
      ],
      "metadata": {
        "colab": {
          "base_uri": "https://localhost:8080/",
          "height": 428
        },
        "id": "3Di5Q9Q3tpU_",
        "outputId": "7a1e99e1-ed37-4631-c12f-463fbd8ab78e"
      },
      "execution_count": null,
      "outputs": [
        {
          "output_type": "execute_result",
          "data": {
            "text/plain": [
              "      fixed acidity  volatile acidity  citric acid  residual sugar  chlorides  \\\n",
              "0               7.0              0.27         0.36            20.7      0.045   \n",
              "1               6.3              0.30         0.34             1.6      0.049   \n",
              "2               8.1              0.28         0.40             6.9      0.050   \n",
              "3               7.2              0.23         0.32             8.5      0.058   \n",
              "4               7.2              0.23         0.32             8.5      0.058   \n",
              "...             ...               ...          ...             ...        ...   \n",
              "4893            6.2              0.21         0.29             1.6      0.039   \n",
              "4894            6.6              0.32         0.36             8.0      0.047   \n",
              "4895            6.5              0.24         0.19             1.2      0.041   \n",
              "4896            5.5              0.29         0.30             1.1      0.022   \n",
              "4897            6.0              0.21         0.38             0.8      0.020   \n",
              "\n",
              "      free sulfur dioxide  total sulfur dioxide  density    pH  sulphates  \\\n",
              "0                    45.0                 170.0  1.00100  3.00       0.45   \n",
              "1                    14.0                 132.0  0.99400  3.30       0.49   \n",
              "2                    30.0                  97.0  0.99510  3.26       0.44   \n",
              "3                    47.0                 186.0  0.99560  3.19       0.40   \n",
              "4                    47.0                 186.0  0.99560  3.19       0.40   \n",
              "...                   ...                   ...      ...   ...        ...   \n",
              "4893                 24.0                  92.0  0.99114  3.27       0.50   \n",
              "4894                 57.0                 168.0  0.99490  3.15       0.46   \n",
              "4895                 30.0                 111.0  0.99254  2.99       0.46   \n",
              "4896                 20.0                 110.0  0.98869  3.34       0.38   \n",
              "4897                 22.0                  98.0  0.98941  3.26       0.32   \n",
              "\n",
              "      alcohol  quality  \n",
              "0         8.8        6  \n",
              "1         9.5        6  \n",
              "2        10.1        6  \n",
              "3         9.9        6  \n",
              "4         9.9        6  \n",
              "...       ...      ...  \n",
              "4893     11.2        6  \n",
              "4894      9.6        5  \n",
              "4895      9.4        6  \n",
              "4896     12.8        7  \n",
              "4897     11.8        6  \n",
              "\n",
              "[4898 rows x 12 columns]"
            ],
            "text/html": [
              "\n",
              "  <div id=\"df-a8d33253-1726-4466-a110-c5854e2bf40d\" class=\"colab-df-container\">\n",
              "    <div>\n",
              "<style scoped>\n",
              "    .dataframe tbody tr th:only-of-type {\n",
              "        vertical-align: middle;\n",
              "    }\n",
              "\n",
              "    .dataframe tbody tr th {\n",
              "        vertical-align: top;\n",
              "    }\n",
              "\n",
              "    .dataframe thead th {\n",
              "        text-align: right;\n",
              "    }\n",
              "</style>\n",
              "<table border=\"1\" class=\"dataframe\">\n",
              "  <thead>\n",
              "    <tr style=\"text-align: right;\">\n",
              "      <th></th>\n",
              "      <th>fixed acidity</th>\n",
              "      <th>volatile acidity</th>\n",
              "      <th>citric acid</th>\n",
              "      <th>residual sugar</th>\n",
              "      <th>chlorides</th>\n",
              "      <th>free sulfur dioxide</th>\n",
              "      <th>total sulfur dioxide</th>\n",
              "      <th>density</th>\n",
              "      <th>pH</th>\n",
              "      <th>sulphates</th>\n",
              "      <th>alcohol</th>\n",
              "      <th>quality</th>\n",
              "    </tr>\n",
              "  </thead>\n",
              "  <tbody>\n",
              "    <tr>\n",
              "      <th>0</th>\n",
              "      <td>7.0</td>\n",
              "      <td>0.27</td>\n",
              "      <td>0.36</td>\n",
              "      <td>20.7</td>\n",
              "      <td>0.045</td>\n",
              "      <td>45.0</td>\n",
              "      <td>170.0</td>\n",
              "      <td>1.00100</td>\n",
              "      <td>3.00</td>\n",
              "      <td>0.45</td>\n",
              "      <td>8.8</td>\n",
              "      <td>6</td>\n",
              "    </tr>\n",
              "    <tr>\n",
              "      <th>1</th>\n",
              "      <td>6.3</td>\n",
              "      <td>0.30</td>\n",
              "      <td>0.34</td>\n",
              "      <td>1.6</td>\n",
              "      <td>0.049</td>\n",
              "      <td>14.0</td>\n",
              "      <td>132.0</td>\n",
              "      <td>0.99400</td>\n",
              "      <td>3.30</td>\n",
              "      <td>0.49</td>\n",
              "      <td>9.5</td>\n",
              "      <td>6</td>\n",
              "    </tr>\n",
              "    <tr>\n",
              "      <th>2</th>\n",
              "      <td>8.1</td>\n",
              "      <td>0.28</td>\n",
              "      <td>0.40</td>\n",
              "      <td>6.9</td>\n",
              "      <td>0.050</td>\n",
              "      <td>30.0</td>\n",
              "      <td>97.0</td>\n",
              "      <td>0.99510</td>\n",
              "      <td>3.26</td>\n",
              "      <td>0.44</td>\n",
              "      <td>10.1</td>\n",
              "      <td>6</td>\n",
              "    </tr>\n",
              "    <tr>\n",
              "      <th>3</th>\n",
              "      <td>7.2</td>\n",
              "      <td>0.23</td>\n",
              "      <td>0.32</td>\n",
              "      <td>8.5</td>\n",
              "      <td>0.058</td>\n",
              "      <td>47.0</td>\n",
              "      <td>186.0</td>\n",
              "      <td>0.99560</td>\n",
              "      <td>3.19</td>\n",
              "      <td>0.40</td>\n",
              "      <td>9.9</td>\n",
              "      <td>6</td>\n",
              "    </tr>\n",
              "    <tr>\n",
              "      <th>4</th>\n",
              "      <td>7.2</td>\n",
              "      <td>0.23</td>\n",
              "      <td>0.32</td>\n",
              "      <td>8.5</td>\n",
              "      <td>0.058</td>\n",
              "      <td>47.0</td>\n",
              "      <td>186.0</td>\n",
              "      <td>0.99560</td>\n",
              "      <td>3.19</td>\n",
              "      <td>0.40</td>\n",
              "      <td>9.9</td>\n",
              "      <td>6</td>\n",
              "    </tr>\n",
              "    <tr>\n",
              "      <th>...</th>\n",
              "      <td>...</td>\n",
              "      <td>...</td>\n",
              "      <td>...</td>\n",
              "      <td>...</td>\n",
              "      <td>...</td>\n",
              "      <td>...</td>\n",
              "      <td>...</td>\n",
              "      <td>...</td>\n",
              "      <td>...</td>\n",
              "      <td>...</td>\n",
              "      <td>...</td>\n",
              "      <td>...</td>\n",
              "    </tr>\n",
              "    <tr>\n",
              "      <th>4893</th>\n",
              "      <td>6.2</td>\n",
              "      <td>0.21</td>\n",
              "      <td>0.29</td>\n",
              "      <td>1.6</td>\n",
              "      <td>0.039</td>\n",
              "      <td>24.0</td>\n",
              "      <td>92.0</td>\n",
              "      <td>0.99114</td>\n",
              "      <td>3.27</td>\n",
              "      <td>0.50</td>\n",
              "      <td>11.2</td>\n",
              "      <td>6</td>\n",
              "    </tr>\n",
              "    <tr>\n",
              "      <th>4894</th>\n",
              "      <td>6.6</td>\n",
              "      <td>0.32</td>\n",
              "      <td>0.36</td>\n",
              "      <td>8.0</td>\n",
              "      <td>0.047</td>\n",
              "      <td>57.0</td>\n",
              "      <td>168.0</td>\n",
              "      <td>0.99490</td>\n",
              "      <td>3.15</td>\n",
              "      <td>0.46</td>\n",
              "      <td>9.6</td>\n",
              "      <td>5</td>\n",
              "    </tr>\n",
              "    <tr>\n",
              "      <th>4895</th>\n",
              "      <td>6.5</td>\n",
              "      <td>0.24</td>\n",
              "      <td>0.19</td>\n",
              "      <td>1.2</td>\n",
              "      <td>0.041</td>\n",
              "      <td>30.0</td>\n",
              "      <td>111.0</td>\n",
              "      <td>0.99254</td>\n",
              "      <td>2.99</td>\n",
              "      <td>0.46</td>\n",
              "      <td>9.4</td>\n",
              "      <td>6</td>\n",
              "    </tr>\n",
              "    <tr>\n",
              "      <th>4896</th>\n",
              "      <td>5.5</td>\n",
              "      <td>0.29</td>\n",
              "      <td>0.30</td>\n",
              "      <td>1.1</td>\n",
              "      <td>0.022</td>\n",
              "      <td>20.0</td>\n",
              "      <td>110.0</td>\n",
              "      <td>0.98869</td>\n",
              "      <td>3.34</td>\n",
              "      <td>0.38</td>\n",
              "      <td>12.8</td>\n",
              "      <td>7</td>\n",
              "    </tr>\n",
              "    <tr>\n",
              "      <th>4897</th>\n",
              "      <td>6.0</td>\n",
              "      <td>0.21</td>\n",
              "      <td>0.38</td>\n",
              "      <td>0.8</td>\n",
              "      <td>0.020</td>\n",
              "      <td>22.0</td>\n",
              "      <td>98.0</td>\n",
              "      <td>0.98941</td>\n",
              "      <td>3.26</td>\n",
              "      <td>0.32</td>\n",
              "      <td>11.8</td>\n",
              "      <td>6</td>\n",
              "    </tr>\n",
              "  </tbody>\n",
              "</table>\n",
              "<p>4898 rows × 12 columns</p>\n",
              "</div>\n",
              "    <div class=\"colab-df-buttons\">\n",
              "\n",
              "  <div class=\"colab-df-container\">\n",
              "    <button class=\"colab-df-convert\" onclick=\"convertToInteractive('df-a8d33253-1726-4466-a110-c5854e2bf40d')\"\n",
              "            title=\"Convert this dataframe to an interactive table.\"\n",
              "            style=\"display:none;\">\n",
              "\n",
              "  <svg xmlns=\"http://www.w3.org/2000/svg\" height=\"24px\" viewBox=\"0 -960 960 960\">\n",
              "    <path d=\"M120-120v-720h720v720H120Zm60-500h600v-160H180v160Zm220 220h160v-160H400v160Zm0 220h160v-160H400v160ZM180-400h160v-160H180v160Zm440 0h160v-160H620v160ZM180-180h160v-160H180v160Zm440 0h160v-160H620v160Z\"/>\n",
              "  </svg>\n",
              "    </button>\n",
              "\n",
              "  <style>\n",
              "    .colab-df-container {\n",
              "      display:flex;\n",
              "      gap: 12px;\n",
              "    }\n",
              "\n",
              "    .colab-df-convert {\n",
              "      background-color: #E8F0FE;\n",
              "      border: none;\n",
              "      border-radius: 50%;\n",
              "      cursor: pointer;\n",
              "      display: none;\n",
              "      fill: #1967D2;\n",
              "      height: 32px;\n",
              "      padding: 0 0 0 0;\n",
              "      width: 32px;\n",
              "    }\n",
              "\n",
              "    .colab-df-convert:hover {\n",
              "      background-color: #E2EBFA;\n",
              "      box-shadow: 0px 1px 2px rgba(60, 64, 67, 0.3), 0px 1px 3px 1px rgba(60, 64, 67, 0.15);\n",
              "      fill: #174EA6;\n",
              "    }\n",
              "\n",
              "    .colab-df-buttons div {\n",
              "      margin-bottom: 4px;\n",
              "    }\n",
              "\n",
              "    [theme=dark] .colab-df-convert {\n",
              "      background-color: #3B4455;\n",
              "      fill: #D2E3FC;\n",
              "    }\n",
              "\n",
              "    [theme=dark] .colab-df-convert:hover {\n",
              "      background-color: #434B5C;\n",
              "      box-shadow: 0px 1px 3px 1px rgba(0, 0, 0, 0.15);\n",
              "      filter: drop-shadow(0px 1px 2px rgba(0, 0, 0, 0.3));\n",
              "      fill: #FFFFFF;\n",
              "    }\n",
              "  </style>\n",
              "\n",
              "    <script>\n",
              "      const buttonEl =\n",
              "        document.querySelector('#df-a8d33253-1726-4466-a110-c5854e2bf40d button.colab-df-convert');\n",
              "      buttonEl.style.display =\n",
              "        google.colab.kernel.accessAllowed ? 'block' : 'none';\n",
              "\n",
              "      async function convertToInteractive(key) {\n",
              "        const element = document.querySelector('#df-a8d33253-1726-4466-a110-c5854e2bf40d');\n",
              "        const dataTable =\n",
              "          await google.colab.kernel.invokeFunction('convertToInteractive',\n",
              "                                                    [key], {});\n",
              "        if (!dataTable) return;\n",
              "\n",
              "        const docLinkHtml = 'Like what you see? Visit the ' +\n",
              "          '<a target=\"_blank\" href=https://colab.research.google.com/notebooks/data_table.ipynb>data table notebook</a>'\n",
              "          + ' to learn more about interactive tables.';\n",
              "        element.innerHTML = '';\n",
              "        dataTable['output_type'] = 'display_data';\n",
              "        await google.colab.output.renderOutput(dataTable, element);\n",
              "        const docLink = document.createElement('div');\n",
              "        docLink.innerHTML = docLinkHtml;\n",
              "        element.appendChild(docLink);\n",
              "      }\n",
              "    </script>\n",
              "  </div>\n",
              "\n",
              "\n",
              "<div id=\"df-43c7a897-b8f5-4827-a1da-1e6918574072\">\n",
              "  <button class=\"colab-df-quickchart\" onclick=\"quickchart('df-43c7a897-b8f5-4827-a1da-1e6918574072')\"\n",
              "            title=\"Suggest charts\"\n",
              "            style=\"display:none;\">\n",
              "\n",
              "<svg xmlns=\"http://www.w3.org/2000/svg\" height=\"24px\"viewBox=\"0 0 24 24\"\n",
              "     width=\"24px\">\n",
              "    <g>\n",
              "        <path d=\"M19 3H5c-1.1 0-2 .9-2 2v14c0 1.1.9 2 2 2h14c1.1 0 2-.9 2-2V5c0-1.1-.9-2-2-2zM9 17H7v-7h2v7zm4 0h-2V7h2v10zm4 0h-2v-4h2v4z\"/>\n",
              "    </g>\n",
              "</svg>\n",
              "  </button>\n",
              "\n",
              "<style>\n",
              "  .colab-df-quickchart {\n",
              "      --bg-color: #E8F0FE;\n",
              "      --fill-color: #1967D2;\n",
              "      --hover-bg-color: #E2EBFA;\n",
              "      --hover-fill-color: #174EA6;\n",
              "      --disabled-fill-color: #AAA;\n",
              "      --disabled-bg-color: #DDD;\n",
              "  }\n",
              "\n",
              "  [theme=dark] .colab-df-quickchart {\n",
              "      --bg-color: #3B4455;\n",
              "      --fill-color: #D2E3FC;\n",
              "      --hover-bg-color: #434B5C;\n",
              "      --hover-fill-color: #FFFFFF;\n",
              "      --disabled-bg-color: #3B4455;\n",
              "      --disabled-fill-color: #666;\n",
              "  }\n",
              "\n",
              "  .colab-df-quickchart {\n",
              "    background-color: var(--bg-color);\n",
              "    border: none;\n",
              "    border-radius: 50%;\n",
              "    cursor: pointer;\n",
              "    display: none;\n",
              "    fill: var(--fill-color);\n",
              "    height: 32px;\n",
              "    padding: 0;\n",
              "    width: 32px;\n",
              "  }\n",
              "\n",
              "  .colab-df-quickchart:hover {\n",
              "    background-color: var(--hover-bg-color);\n",
              "    box-shadow: 0 1px 2px rgba(60, 64, 67, 0.3), 0 1px 3px 1px rgba(60, 64, 67, 0.15);\n",
              "    fill: var(--button-hover-fill-color);\n",
              "  }\n",
              "\n",
              "  .colab-df-quickchart-complete:disabled,\n",
              "  .colab-df-quickchart-complete:disabled:hover {\n",
              "    background-color: var(--disabled-bg-color);\n",
              "    fill: var(--disabled-fill-color);\n",
              "    box-shadow: none;\n",
              "  }\n",
              "\n",
              "  .colab-df-spinner {\n",
              "    border: 2px solid var(--fill-color);\n",
              "    border-color: transparent;\n",
              "    border-bottom-color: var(--fill-color);\n",
              "    animation:\n",
              "      spin 1s steps(1) infinite;\n",
              "  }\n",
              "\n",
              "  @keyframes spin {\n",
              "    0% {\n",
              "      border-color: transparent;\n",
              "      border-bottom-color: var(--fill-color);\n",
              "      border-left-color: var(--fill-color);\n",
              "    }\n",
              "    20% {\n",
              "      border-color: transparent;\n",
              "      border-left-color: var(--fill-color);\n",
              "      border-top-color: var(--fill-color);\n",
              "    }\n",
              "    30% {\n",
              "      border-color: transparent;\n",
              "      border-left-color: var(--fill-color);\n",
              "      border-top-color: var(--fill-color);\n",
              "      border-right-color: var(--fill-color);\n",
              "    }\n",
              "    40% {\n",
              "      border-color: transparent;\n",
              "      border-right-color: var(--fill-color);\n",
              "      border-top-color: var(--fill-color);\n",
              "    }\n",
              "    60% {\n",
              "      border-color: transparent;\n",
              "      border-right-color: var(--fill-color);\n",
              "    }\n",
              "    80% {\n",
              "      border-color: transparent;\n",
              "      border-right-color: var(--fill-color);\n",
              "      border-bottom-color: var(--fill-color);\n",
              "    }\n",
              "    90% {\n",
              "      border-color: transparent;\n",
              "      border-bottom-color: var(--fill-color);\n",
              "    }\n",
              "  }\n",
              "</style>\n",
              "\n",
              "  <script>\n",
              "    async function quickchart(key) {\n",
              "      const quickchartButtonEl =\n",
              "        document.querySelector('#' + key + ' button');\n",
              "      quickchartButtonEl.disabled = true;  // To prevent multiple clicks.\n",
              "      quickchartButtonEl.classList.add('colab-df-spinner');\n",
              "      try {\n",
              "        const charts = await google.colab.kernel.invokeFunction(\n",
              "            'suggestCharts', [key], {});\n",
              "      } catch (error) {\n",
              "        console.error('Error during call to suggestCharts:', error);\n",
              "      }\n",
              "      quickchartButtonEl.classList.remove('colab-df-spinner');\n",
              "      quickchartButtonEl.classList.add('colab-df-quickchart-complete');\n",
              "    }\n",
              "    (() => {\n",
              "      let quickchartButtonEl =\n",
              "        document.querySelector('#df-43c7a897-b8f5-4827-a1da-1e6918574072 button');\n",
              "      quickchartButtonEl.style.display =\n",
              "        google.colab.kernel.accessAllowed ? 'block' : 'none';\n",
              "    })();\n",
              "  </script>\n",
              "</div>\n",
              "\n",
              "  <div id=\"id_23c4eb74-9fc9-4871-a793-db6cc87477b2\">\n",
              "    <style>\n",
              "      .colab-df-generate {\n",
              "        background-color: #E8F0FE;\n",
              "        border: none;\n",
              "        border-radius: 50%;\n",
              "        cursor: pointer;\n",
              "        display: none;\n",
              "        fill: #1967D2;\n",
              "        height: 32px;\n",
              "        padding: 0 0 0 0;\n",
              "        width: 32px;\n",
              "      }\n",
              "\n",
              "      .colab-df-generate:hover {\n",
              "        background-color: #E2EBFA;\n",
              "        box-shadow: 0px 1px 2px rgba(60, 64, 67, 0.3), 0px 1px 3px 1px rgba(60, 64, 67, 0.15);\n",
              "        fill: #174EA6;\n",
              "      }\n",
              "\n",
              "      [theme=dark] .colab-df-generate {\n",
              "        background-color: #3B4455;\n",
              "        fill: #D2E3FC;\n",
              "      }\n",
              "\n",
              "      [theme=dark] .colab-df-generate:hover {\n",
              "        background-color: #434B5C;\n",
              "        box-shadow: 0px 1px 3px 1px rgba(0, 0, 0, 0.15);\n",
              "        filter: drop-shadow(0px 1px 2px rgba(0, 0, 0, 0.3));\n",
              "        fill: #FFFFFF;\n",
              "      }\n",
              "    </style>\n",
              "    <button class=\"colab-df-generate\" onclick=\"generateWithVariable('dfw')\"\n",
              "            title=\"Generate code using this dataframe.\"\n",
              "            style=\"display:none;\">\n",
              "\n",
              "  <svg xmlns=\"http://www.w3.org/2000/svg\" height=\"24px\"viewBox=\"0 0 24 24\"\n",
              "       width=\"24px\">\n",
              "    <path d=\"M7,19H8.4L18.45,9,17,7.55,7,17.6ZM5,21V16.75L18.45,3.32a2,2,0,0,1,2.83,0l1.4,1.43a1.91,1.91,0,0,1,.58,1.4,1.91,1.91,0,0,1-.58,1.4L9.25,21ZM18.45,9,17,7.55Zm-12,3A5.31,5.31,0,0,0,4.9,8.1,5.31,5.31,0,0,0,1,6.5,5.31,5.31,0,0,0,4.9,4.9,5.31,5.31,0,0,0,6.5,1,5.31,5.31,0,0,0,8.1,4.9,5.31,5.31,0,0,0,12,6.5,5.46,5.46,0,0,0,6.5,12Z\"/>\n",
              "  </svg>\n",
              "    </button>\n",
              "    <script>\n",
              "      (() => {\n",
              "      const buttonEl =\n",
              "        document.querySelector('#id_23c4eb74-9fc9-4871-a793-db6cc87477b2 button.colab-df-generate');\n",
              "      buttonEl.style.display =\n",
              "        google.colab.kernel.accessAllowed ? 'block' : 'none';\n",
              "\n",
              "      buttonEl.onclick = () => {\n",
              "        google.colab.notebook.generateWithVariable('dfw');\n",
              "      }\n",
              "      })();\n",
              "    </script>\n",
              "  </div>\n",
              "\n",
              "    </div>\n",
              "  </div>\n"
            ]
          },
          "metadata": {},
          "execution_count": 234
        }
      ]
    },
    {
      "cell_type": "code",
      "source": [
        "print(dfr.shape)\n",
        "print(dfw.shape)\n",
        "\n",
        "# type(df)\n",
        "print(dfr.head())"
      ],
      "metadata": {
        "colab": {
          "base_uri": "https://localhost:8080/"
        },
        "id": "6XLn3Q1ltsae",
        "outputId": "b77033a7-900e-4c9d-c7a1-45be404d17ba"
      },
      "execution_count": null,
      "outputs": [
        {
          "output_type": "stream",
          "name": "stdout",
          "text": [
            "(1599, 12)\n",
            "(4898, 12)\n",
            "   fixed acidity  volatile acidity  citric acid  residual sugar  chlorides  \\\n",
            "0            7.4              0.70         0.00             1.9      0.076   \n",
            "1            7.8              0.88         0.00             2.6      0.098   \n",
            "2            7.8              0.76         0.04             2.3      0.092   \n",
            "3           11.2              0.28         0.56             1.9      0.075   \n",
            "4            7.4              0.70         0.00             1.9      0.076   \n",
            "\n",
            "   free sulfur dioxide  total sulfur dioxide  density    pH  sulphates  \\\n",
            "0                 11.0                  34.0   0.9978  3.51       0.56   \n",
            "1                 25.0                  67.0   0.9968  3.20       0.68   \n",
            "2                 15.0                  54.0   0.9970  3.26       0.65   \n",
            "3                 17.0                  60.0   0.9980  3.16       0.58   \n",
            "4                 11.0                  34.0   0.9978  3.51       0.56   \n",
            "\n",
            "   alcohol  quality  \n",
            "0      9.4        5  \n",
            "1      9.8        5  \n",
            "2      9.8        5  \n",
            "3      9.8        6  \n",
            "4      9.4        5  \n"
          ]
        }
      ]
    },
    {
      "cell_type": "code",
      "source": [
        "# Add 'color' column to each dataset before merging\n",
        "dfr[\"color\"] = 1 #red\n",
        "dfw[\"color\"] = 0 #white\n",
        "\n",
        "# Concatenate both red and white wine datasets\n",
        "df = pd.concat([dfr, dfw])\n",
        "df\n",
        "\n",
        "# # Separate features and target variable\n",
        "X = df.drop(columns=['quality', 'color']) # Features (excluding 'quality' and 'color')\n",
        "y = df['quality']  # Target variable"
      ],
      "metadata": {
        "id": "n9v7FwpN3cOK"
      },
      "execution_count": null,
      "outputs": []
    },
    {
      "cell_type": "markdown",
      "source": [
        "# Lasso regression on both white and red wines"
      ],
      "metadata": {
        "id": "yA_e3j1EuC2I"
      }
    },
    {
      "cell_type": "code",
      "source": [
        "scaler = StandardScaler()\n",
        "X_scaled = scaler.fit_transform(X)\n",
        "\n",
        "X_train, X_test, y_train, y_test = train_test_split(X_scaled, y, test_size=0.25, random_state=42)\n",
        "\n",
        "# LASSO regression\n",
        "lasso = linear_model.Lasso(alpha=0.15,fit_intercept=True)\n",
        "\n",
        "lasso.fit(X_train, y_train)\n",
        "\n",
        "y_pred = lasso.predict(X_test)\n",
        "\n",
        "coefficients = lasso.coef_\n",
        "\n",
        "print(\"Mean squared error of Lasso regression: {:.2f}\".format(mean_squared_error(y_test, y_pred)) )\n",
        "\n",
        "print(\"Lasso coefficients:\")\n",
        "print(coefficients)\n",
        "\n",
        "selected_features = X.columns[lasso.coef_ != 0]\n",
        "print(\"\\n Selected Features:\")\n",
        "print(selected_features)"
      ],
      "metadata": {
        "colab": {
          "base_uri": "https://localhost:8080/"
        },
        "id": "ALNZuy95CK2J",
        "outputId": "32cc154e-4182-45e4-9785-7c549999b0e5"
      },
      "execution_count": null,
      "outputs": [
        {
          "output_type": "stream",
          "name": "stdout",
          "text": [
            "Mean squared error of Lasso regression: 0.46\n",
            "Lasso coefficients:\n",
            "[ 0.         -0.10976812  0.         -0.         -0.         -0.\n",
            " -0.         -0.         -0.          0.          0.22375587  0.        ]\n",
            "\n",
            " Selected Features:\n",
            "Index(['volatile acidity', 'alcohol'], dtype='object')\n"
          ]
        }
      ]
    },
    {
      "cell_type": "code",
      "source": [
        "selected_features = ['volatile acidity', 'alcohol']\n",
        "selected_data = df[selected_features + ['quality']]\n",
        "\n",
        "red_wine = selected_data[df['color'] == 1]\n",
        "white_wine = selected_data[df['color'] == 0]\n",
        "\n",
        "# Plotting the selected features for red wine\n",
        "plt.figure(figsize=(8, 6))\n",
        "plt.scatter(red_wine['volatile acidity'], red_wine['alcohol'], c='red', label='Red Wine', alpha = 0.2)\n",
        "plt.scatter(white_wine['volatile acidity'], white_wine['alcohol'], c='blue', label='White Wine', alpha = 0.2)\n",
        "plt.xlabel('Volatile Acidity')\n",
        "plt.ylabel('Alcohol')\n",
        "plt.title('Scatter plot of Volatile Acidity vs Alcohol')\n",
        "plt.legend()\n",
        "plt.show()"
      ],
      "metadata": {
        "colab": {
          "base_uri": "https://localhost:8080/",
          "height": 563
        },
        "id": "3gbe7ljOKA_-",
        "outputId": "e9cb44bf-aa1f-4826-aca2-195374eb73bd"
      },
      "execution_count": null,
      "outputs": [
        {
          "output_type": "display_data",
          "data": {
            "text/plain": [
              "<Figure size 800x600 with 1 Axes>"
            ],
            "image/png": "[encoded data removed]"
          },
          "metadata": {}
        }
      ]
    },
    {
      "cell_type": "markdown",
      "source": [
        "#Lasso regression on only white wines"
      ],
      "metadata": {
        "id": "0RqlkRuBuFqT"
      }
    },
    {
      "cell_type": "code",
      "source": [
        "# # Separate features and target variable\n",
        "X_w = dfw.drop(columns=['quality', 'color']) # Features (excluding 'quality' and 'color')\n",
        "y_w = dfw['quality']  # Target variable\n",
        "\n",
        "scaler = StandardScaler()\n",
        "X_w_scaled = scaler.fit_transform(X_w)\n",
        "\n",
        "X_w_train, X_w_test, y_w_train, y_w_test = train_test_split(X_w_scaled, y_w, test_size=0.25, random_state=42)\n",
        "\n",
        "# LASSO regression\n",
        "lasso = linear_model.Lasso(alpha=0.1,fit_intercept=True)    #!!!might still need adjusting\n",
        "\n",
        "lasso.fit(X_w_train, y_w_train)\n",
        "\n",
        "y_w_pred = lasso.predict(X_w_test)\n",
        "\n",
        "coefficients = lasso.coef_\n",
        "\n",
        "print(\"Mean squared error of Lasso regression: {:.2f}\".format(mean_squared_error(y_w_test, y_w_pred)) )\n",
        "\n",
        "print(\"Lasso coefficients:\")\n",
        "print(coefficients)\n",
        "\n",
        "selected_features = X_w.columns[lasso.coef_ != 0]\n",
        "print(\"\\n Selected Features:\")\n",
        "print(selected_features)"
      ],
      "metadata": {
        "colab": {
          "base_uri": "https://localhost:8080/"
        },
        "id": "s9Xfx46auKCY",
        "outputId": "bccdc5e0-a791-4b9b-c4b7-fd2c815635fd"
      },
      "execution_count": null,
      "outputs": [
        {
          "output_type": "stream",
          "name": "stdout",
          "text": [
            "Mean squared error of Lasso regression: 0.61\n",
            "Lasso coefficients:\n",
            "[-0.         -0.09418587 -0.          0.         -0.          0.\n",
            " -0.         -0.          0.          0.          0.28852542]\n",
            "\n",
            " Selected Features:\n",
            "Index(['volatile acidity', 'alcohol'], dtype='object')\n"
          ]
        }
      ]
    },
    {
      "cell_type": "markdown",
      "source": [
        "#Lasso regression on only red wines"
      ],
      "metadata": {
        "id": "kNBJrPVWw2_o"
      }
    },
    {
      "cell_type": "code",
      "source": [
        "# # Separate features and target variable\n",
        "X_r = dfr.drop(columns=['quality', 'color']) # Features (excluding 'quality' and 'color')\n",
        "y_r = dfr['quality']  # Target variable\n",
        "\n",
        "scaler = StandardScaler()\n",
        "X_r_scaled = scaler.fit_transform(X_r)\n",
        "\n",
        "X_r_train, X_r_test, y_r_train, y_r_test = train_test_split(X_r_scaled, y_r, test_size=0.25, random_state=42)\n",
        "\n",
        "# LASSO regression\n",
        "lasso = linear_model.Lasso(alpha=0.2,fit_intercept=True)    #!!!might still need adjusting\n",
        "\n",
        "lasso.fit(X_r_train, y_r_train)\n",
        "\n",
        "y_r_pred = lasso.predict(X_r_test)\n",
        "\n",
        "coefficients = lasso.coef_\n",
        "\n",
        "print(\"Mean squared error of Lasso regression: {:.2f}\".format(mean_squared_error(y_r_test, y_r_pred)) )\n",
        "\n",
        "print(\"Lasso coefficients:\")\n",
        "print(coefficients)\n",
        "\n",
        "selected_features = X_r.columns[lasso.coef_ != 0]\n",
        "print(\"\\n Selected Features:\")\n",
        "print(selected_features)"
      ],
      "metadata": {
        "colab": {
          "base_uri": "https://localhost:8080/"
        },
        "id": "9hKJ9Ylvw5_z",
        "outputId": "99096162-131f-45a3-a90f-d4976f7fb3ae"
      },
      "execution_count": null,
      "outputs": [
        {
          "output_type": "stream",
          "name": "stdout",
          "text": [
            "Mean squared error of Lasso regression: 0.49\n",
            "Lasso coefficients:\n",
            "[ 0.         -0.06901846  0.         -0.         -0.         -0.\n",
            " -0.         -0.         -0.          0.          0.18168716]\n",
            "\n",
            " Selected Features:\n",
            "Index(['volatile acidity', 'alcohol'], dtype='object')\n"
          ]
        }
      ]
    },
    {
      "cell_type": "markdown",
      "source": [
        "# Training Random Forest Model on the features Volatile Acidity, alcohol and color\n"
      ],
      "metadata": {
        "id": "2yfErv7NOioh"
      }
    },
    {
      "cell_type": "code",
      "source": [
        "selected_features = ['volatile acidity', 'alcohol', 'color']\n",
        "selected_data = df[selected_features + ['quality']]\n",
        "\n",
        "X_selected = selected_data[selected_features]\n",
        "y_selected = selected_data['quality']\n",
        "\n",
        "# Split the data into training and testing sets\n",
        "X_train_sel, X_test_sel, y_train_sel, y_test_sel = train_test_split(X_selected, y_selected, test_size=0.25, random_state=42)\n",
        "\n",
        "# Initialize and fit a Random Forest Regression model\n",
        "random_forest = RandomForestRegressor(random_state=42)\n",
        "random_forest.fit(X_train_sel, y_train_sel)\n",
        "\n",
        "# Predict on the test set\n",
        "y_pred_rf_two_features = random_forest.predict(X_test_sel)\n",
        "\n",
        "# Calculate Mean Squared Error on the test set\n",
        "mse_rf = mean_squared_error(y_test_sel, y_pred_rf_two_features)\n",
        "print(\"Mean squared error using Random Forest:\", mse_rf)"
      ],
      "metadata": {
        "colab": {
          "base_uri": "https://localhost:8080/"
        },
        "id": "T0S1cJc0N4Ku",
        "outputId": "b2b30ee0-29f3-46ec-ea3c-5c25e323906a"
      },
      "execution_count": null,
      "outputs": [
        {
          "output_type": "stream",
          "name": "stdout",
          "text": [
            "Mean squared error using Random Forest: 0.6040099591887393\n"
          ]
        }
      ]
    },
    {
      "cell_type": "markdown",
      "source": [
        "# Training Random Forest Model on the features Volatile Acidity, alcohol on white\n"
      ],
      "metadata": {
        "id": "0dzAG6PKzcCf"
      }
    },
    {
      "cell_type": "code",
      "source": [
        "features_white = ['volatile acidity', 'alcohol']\n",
        "data_white = dfw[features_white + ['quality']]\n",
        "\n",
        "X_selected = data_white[features_white]\n",
        "y_selected = data_white['quality']\n",
        "\n",
        "# Split the data into training and testing sets\n",
        "X_train_sel, X_test_sel, y_train_sel, y_test_sel = train_test_split(X_selected, y_selected, test_size=0.25, random_state=42)\n",
        "\n",
        "# Initialize and fit a Random Forest Regression model\n",
        "random_forest = RandomForestRegressor(random_state=42)\n",
        "random_forest.fit(X_train_sel, y_train_sel)\n",
        "\n",
        "# Predict on the test set\n",
        "y_pred_rf_two_feat_white = random_forest.predict(X_test_sel)\n",
        "\n",
        "# Calculate Mean Squared Error on the test set\n",
        "mse_rf_white = mean_squared_error(y_test_sel, y_pred_rf_two_feat_white)\n",
        "print(\"Mean squared error using Random Forest:\", mse_rf_white)"
      ],
      "metadata": {
        "colab": {
          "base_uri": "https://localhost:8080/"
        },
        "id": "KNNPGIvSzZg0",
        "outputId": "e101065e-eda5-4e27-dea2-1d1eae99590e"
      },
      "execution_count": null,
      "outputs": [
        {
          "output_type": "stream",
          "name": "stdout",
          "text": [
            "Mean squared error using Random Forest: 0.6109983794642568\n"
          ]
        }
      ]
    },
    {
      "cell_type": "markdown",
      "source": [
        "# Training Random Forest Model on the features Volatile Acidity, alcohol on red wine\n"
      ],
      "metadata": {
        "id": "56Dt5Yx70yVq"
      }
    },
    {
      "cell_type": "code",
      "source": [
        "features_red = ['volatile acidity', 'alcohol']\n",
        "data_red = dfr[features_red + ['quality']]\n",
        "\n",
        "X_selected = data_red[features_red]\n",
        "y_selected = data_red['quality']\n",
        "\n",
        "# Split the data into training and testing sets\n",
        "X_train_sel, X_test_sel, y_train_sel, y_test_sel = train_test_split(X_selected, y_selected, test_size=0.25, random_state=42)\n",
        "\n",
        "# Initialize and fit a Random Forest Regression model\n",
        "random_forest = RandomForestRegressor(random_state=42)\n",
        "random_forest.fit(X_train_sel, y_train_sel)\n",
        "\n",
        "# Predict on the test set\n",
        "y_pred_rf_two_feat_red = random_forest.predict(X_test_sel)\n",
        "\n",
        "# Calculate Mean Squared Error on the test set\n",
        "mse_rf_red = mean_squared_error(y_test_sel, y_pred_rf_two_feat_red)\n",
        "print(\"Mean squared error using Random Forest:\", mse_rf_red)"
      ],
      "metadata": {
        "colab": {
          "base_uri": "https://localhost:8080/"
        },
        "id": "LrrnMvjB02sB",
        "outputId": "8e334d15-55e6-4159-f414-56a34c447563"
      },
      "execution_count": null,
      "outputs": [
        {
          "output_type": "stream",
          "name": "stdout",
          "text": [
            "Mean squared error using Random Forest: 0.46181465281946343\n"
          ]
        }
      ]
    },
    {
      "cell_type": "markdown",
      "source": [
        "# Training Random Forest on all the features present in the Wine Quality Dataset using Random Forest"
      ],
      "metadata": {
        "id": "BEcS4yDpP-xZ"
      }
    },
    {
      "cell_type": "code",
      "source": [
        "X = df.drop(columns=['quality'])\n",
        "y = df['quality']\n",
        "\n",
        "scaler = StandardScaler()\n",
        "X_scaled = scaler.fit_transform(X)\n",
        "\n",
        "X_train, X_test, y_train, y_test = train_test_split(X_scaled, y, test_size=0.25, random_state=42)\n",
        "\n",
        "random_forest_all_features = RandomForestRegressor(random_state=42)\n",
        "random_forest_all_features.fit(X_train, y_train)\n",
        "\n",
        "y_pred_rf_all = random_forest_all_features.predict(X_test)\n",
        "\n",
        "mse_rf_all = mean_squared_error(y_test, y_pred_rf_all)\n",
        "print(\"Mean squared error using Random Forest with all features:\", mse_rf_all)\n"
      ],
      "metadata": {
        "colab": {
          "base_uri": "https://localhost:8080/"
        },
        "id": "qrRa45HnQHUl",
        "outputId": "419d35fe-2192-4a59-cbfa-d1d4c32554a7"
      },
      "execution_count": null,
      "outputs": [
        {
          "output_type": "stream",
          "name": "stdout",
          "text": [
            "Mean squared error using Random Forest with all features: 0.3820424615384615\n"
          ]
        }
      ]
    },
    {
      "cell_type": "markdown",
      "source": [
        "# Training Random Forest on all the features present in the White Wine Dataset using Random Forest"
      ],
      "metadata": {
        "id": "F7_A5Cco2gpz"
      }
    },
    {
      "cell_type": "code",
      "source": [
        "X = dfw.drop(columns=['quality'])\n",
        "y = dfw['quality']\n",
        "\n",
        "scaler = StandardScaler()\n",
        "X_scaled = scaler.fit_transform(X)\n",
        "\n",
        "X_train, X_test, y_train, y_test = train_test_split(X_scaled, y, test_size=0.25, random_state=42)\n",
        "\n",
        "random_forest_all_features = RandomForestRegressor(random_state=42)\n",
        "random_forest_all_features.fit(X_train, y_train)\n",
        "\n",
        "y_pred_rf_all_features_white = random_forest_all_features.predict(X_test)\n",
        "\n",
        "mse_rf_all_features_white = mean_squared_error(y_test, y_pred_rf_all_features_white)\n",
        "print(\"Mean squared error using Random Forest with all features:\", mse_rf_all_features_white)"
      ],
      "metadata": {
        "colab": {
          "base_uri": "https://localhost:8080/"
        },
        "id": "xdjjYfQI2i5D",
        "outputId": "9e8b4aff-fd00-4266-a0a8-9fcafbbdf94a"
      },
      "execution_count": null,
      "outputs": [
        {
          "output_type": "stream",
          "name": "stdout",
          "text": [
            "Mean squared error using Random Forest with all features: 0.36027738775510204\n"
          ]
        }
      ]
    },
    {
      "cell_type": "markdown",
      "source": [
        "# Training Random Forest on all the features present in the Red Wine Dataset using Random Forest"
      ],
      "metadata": {
        "id": "o7slAECk3RRH"
      }
    },
    {
      "cell_type": "code",
      "source": [
        "X = dfr.drop(columns=['quality'])\n",
        "y = dfr['quality']\n",
        "\n",
        "scaler = StandardScaler()\n",
        "X_scaled = scaler.fit_transform(X)\n",
        "\n",
        "X_train, X_test, y_train, y_test = train_test_split(X_scaled, y, test_size=0.25, random_state=42)\n",
        "\n",
        "random_forest_all_features = RandomForestRegressor(random_state=42)\n",
        "random_forest_all_features.fit(X_train, y_train)\n",
        "\n",
        "y_pred_rf_all_features_red = random_forest_all_features.predict(X_test)\n",
        "\n",
        "mse_rf_all_features_red = mean_squared_error(y_test, y_pred_rf_all_features_red)\n",
        "print(\"Mean squared error using Random Forest with all features:\", mse_rf_all_features_red)"
      ],
      "metadata": {
        "colab": {
          "base_uri": "https://localhost:8080/"
        },
        "id": "XNibByhT3RiW",
        "outputId": "438c1102-2b47-47c7-eeb4-1120336d2244"
      },
      "execution_count": null,
      "outputs": [
        {
          "output_type": "stream",
          "name": "stdout",
          "text": [
            "Mean squared error using Random Forest with all features: 0.30912275\n"
          ]
        }
      ]
    },
    {
      "cell_type": "markdown",
      "source": [
        "# Training SVM on the features Volatile Acidity, alcohol, and color"
      ],
      "metadata": {
        "id": "z_PCT0JDQ7cP"
      }
    },
    {
      "cell_type": "code",
      "source": [
        "from sklearn.svm import SVR\n",
        "\n",
        "selected_features = ['volatile acidity', 'alcohol', 'color']\n",
        "selected_data = df[selected_features + ['quality']]\n",
        "\n",
        "X_selected = selected_data[selected_features]\n",
        "y_selected = selected_data['quality']\n",
        "\n",
        "X_train_sel, X_test_sel, y_train_sel, y_test_sel = train_test_split(X_selected, y_selected, test_size=0.25, random_state=42)\n",
        "\n",
        "scaler = StandardScaler()\n",
        "X_train_scaled = scaler.fit_transform(X_train_sel)\n",
        "X_test_scaled = scaler.transform(X_test_sel)\n",
        "\n",
        "svm_reg = SVR(kernel='linear')\n",
        "svm_reg.fit(X_train_scaled, y_train_sel)\n",
        "\n",
        "y_pred_svm_two_features = svm_reg.predict(X_test_scaled)\n",
        "\n",
        "mse_svm = mean_squared_error(y_test_sel, y_pred_svm_two_features)\n",
        "print(\"Mean squared error using SVM:\", mse_svm)\n"
      ],
      "metadata": {
        "colab": {
          "base_uri": "https://localhost:8080/"
        },
        "id": "p5vsrUlxQ4Rm",
        "outputId": "cdcab5af-aabd-45fb-9ff4-845b427a16b7"
      },
      "execution_count": null,
      "outputs": [
        {
          "output_type": "stream",
          "name": "stdout",
          "text": [
            "Mean squared error using SVM: 0.558442238775967\n"
          ]
        }
      ]
    },
    {
      "cell_type": "markdown",
      "source": [
        "# Training SVM on all the features present in the Wine Quality Dataset using Random Forest"
      ],
      "metadata": {
        "id": "5m0GC4L3RdNc"
      }
    },
    {
      "cell_type": "code",
      "source": [
        "from sklearn.svm import SVR\n",
        "\n",
        "X = df.drop(columns=['quality'])\n",
        "y = df['quality']\n",
        "\n",
        "X_train, X_test, y_train, y_test = train_test_split(X, y, test_size=0.25, random_state=42)\n",
        "\n",
        "scaler = StandardScaler()\n",
        "X_train_scaled = scaler.fit_transform(X_train)\n",
        "X_test_scaled = scaler.transform(X_test)\n",
        "\n",
        "svm_reg_all = SVR(kernel='linear')\n",
        "svm_reg_all.fit(X_train_scaled, y_train)\n",
        "\n",
        "y_pred_svm_all = svm_reg_all.predict(X_test_scaled)\n",
        "\n",
        "mse_svm_all = mean_squared_error(y_test, y_pred_svm_all)\n",
        "print(\"Mean squared error using SVM with all features:\", mse_svm_all)\n"
      ],
      "metadata": {
        "colab": {
          "base_uri": "https://localhost:8080/"
        },
        "id": "WzwUgBE7RVkF",
        "outputId": "c4d06b03-4ae8-4d53-faaa-6688fed73a16"
      },
      "execution_count": null,
      "outputs": [
        {
          "output_type": "stream",
          "name": "stdout",
          "text": [
            "Mean squared error using SVM with all features: 0.5510207911857627\n"
          ]
        }
      ]
    },
    {
      "cell_type": "markdown",
      "source": [
        "#Statistical Analysis"
      ],
      "metadata": {
        "id": "yJUI0mmpTWTY"
      }
    },
    {
      "cell_type": "markdown",
      "source": [
        "##White"
      ],
      "metadata": {
        "id": "dkdeda1K3hAM"
      }
    },
    {
      "cell_type": "code",
      "source": [
        "# Assuming that the variables in the data are dependent  (since they come from the same dataset)\n",
        "\n",
        "\n",
        "# We know that the data is not normally distributed \"The classes are ordered and not balanced (e.g. there are many more normal wines than excellent or poor ones)\"\n",
        "\n",
        "from scipy.stats import ttest_rel\n",
        "\n",
        "# Perform a paired t-test for Random Forest models\n",
        "rf_p_value_white = ttest_rel(mse_rf_all_features_white, mse_rf_white, alternative='less').pvalue\n",
        "\n",
        "# Compare p-values to determine if there is a statistically significant difference in performance\n",
        "if rf_p_value_white < 0.01:\n",
        "    print(\"We can reject the alternative hypothesis that using only the two features is better than using all features with a 99\\% confidence interval within the white wine quality dataset\")\n",
        "else:\n",
        "    print(\"We can accept the alternative hypothesis that using only the two features is better than using all features with a 99\\% confidence interval within the white wine quality dataset\")"
      ],
      "metadata": {
        "colab": {
          "base_uri": "https://localhost:8080/"
        },
        "id": "rXoZbA2x342S",
        "outputId": "8135f3cd-a860-4109-a081-20285e85ab70"
      },
      "execution_count": 271,
      "outputs": [
        {
          "output_type": "stream",
          "name": "stdout",
          "text": [
            "We can accept the alternative hypothesis that using only the two features is better than using all features with a 99\\% confidence interval within the white wine quality dataset\n"
          ]
        }
      ]
    },
    {
      "cell_type": "markdown",
      "source": [
        "## Red"
      ],
      "metadata": {
        "id": "Xckt9rlD3koi"
      }
    },
    {
      "cell_type": "code",
      "source": [
        "# Assuming that the variables in the data are dependent  (since they come from the same dataset)\n",
        "\n",
        "\n",
        "# We know that the data is not normally distributed \"The classes are ordered and not balanced (e.g. there are many more normal wines than excellent or poor ones)\"\n",
        "\n",
        "from scipy.stats import ttest_rel\n",
        "\n",
        "# Perform a paired t-test for Random Forest models\n",
        "rf_p_value_red = ttest_rel(mse_rf_all_features_red, mse_rf_red, alternative='less').pvalue\n",
        "\n",
        "# Compare p-values to determine if there is a statistically significant difference in performance\n",
        "if rf_p_value_white < 0.01:\n",
        "    print(\"We can reject the alternative hypothesis that using only the two features is better than using all features with a 99\\% confidence interval within the red wine quality dataset \")\n",
        "else:\n",
        "    print(\"We can accept the alternative hypothesis that using only the two features is better than using all features with a 99\\% confidence interval within the red wine quality dataset\")"
      ],
      "metadata": {
        "colab": {
          "base_uri": "https://localhost:8080/"
        },
        "id": "nEQCNPm93nBp",
        "outputId": "6a85e668-ca52-4bf7-fb1d-b0b7cc4a38b2"
      },
      "execution_count": 272,
      "outputs": [
        {
          "output_type": "stream",
          "name": "stdout",
          "text": [
            "We can accept the alternative hypothesis that using only the two features is better than using all features with a 99\\% confidence interval within the red wine quality dataset\n"
          ]
        }
      ]
    },
    {
      "cell_type": "markdown",
      "source": [
        "### White and Red"
      ],
      "metadata": {
        "id": "0QuRi1TW32Xb"
      }
    },
    {
      "cell_type": "code",
      "source": [
        "# Assuming that the variables in the data are dependent  (since they come from the same dataset)\n",
        "\n",
        "\n",
        "# We know that the data is not normally distributed \"The classes are ordered and not balanced (e.g. there are many more normal wines than excellent or poor ones)\"\n",
        "\n",
        "from scipy.stats import ttest_rel\n",
        "\n",
        "# Perform a paired t-test for SVM models\n",
        "svm_p_value = ttest_rel(mse_svm_all, mse_svm, nan_policy='propagate', alternative='two-sided').pvalue\n",
        "\n",
        "# Perform a paired t-test for Random Forest models\n",
        "rf_p_value = ttest_rel(mse_rf_all, mse_rf, nan_policy='propagate', alternative='two-sided').pvalue\n",
        "\n",
        "# Compare p-values to determine if there is a statistically significant difference in performance\n",
        "if rf_p_value < 0.05:\n",
        "    print(\"Random Forest models show a significant difference in performance between two features and all features.\")\n",
        "else:\n",
        "    print(\"No significant difference observed for Random Forest models.\")\n",
        "\n",
        "if svm_p_value < 0.05:\n",
        "    print(\"SVM models show a significant difference in performance between two features and all features.\")\n",
        "else:\n",
        "    print(\"No significant difference observed for SVM models.\")"
      ],
      "metadata": {
        "colab": {
          "base_uri": "https://localhost:8080/"
        },
        "id": "9eWD2zicTVlC",
        "outputId": "d5abea1c-26e9-4219-a6b9-565f7b30f692"
      },
      "execution_count": null,
      "outputs": [
        {
          "output_type": "stream",
          "name": "stdout",
          "text": [
            "No significant difference observed for Random Forest models.\n",
            "No significant difference observed for SVM models.\n"
          ]
        },
        {
          "output_type": "stream",
          "name": "stderr",
          "text": [
            "/usr/local/lib/python3.10/dist-packages/scipy/stats/_stats_py.py:1103: RuntimeWarning: divide by zero encountered in divide\n",
            "  var *= np.divide(n, n-ddof)  # to avoid error on division by zero\n",
            "/usr/local/lib/python3.10/dist-packages/scipy/stats/_stats_py.py:1103: RuntimeWarning: invalid value encountered in double_scalars\n",
            "  var *= np.divide(n, n-ddof)  # to avoid error on division by zero\n"
          ]
        }
      ]
    },
    {
      "cell_type": "code",
      "source": [
        "# WRONG ASSUMPTION\n",
        "\n",
        "\n",
        "# from scipy.stats import ttest_ind\n",
        "\n",
        "# # Perform independent-sample t-tests for Random Forest\n",
        "# t_stat_rf, p_val_rf = ttest_ind([mse_rf], [mse_rf_all], equal_var=False)\n",
        "# if p_val_rf < 0.1:\n",
        "#     print(\"Random Forest shows a significant difference between selected and all features.\")\n",
        "# else:\n",
        "#     print(\"No significant difference observed for Random Forest.\")\n",
        "\n",
        "# # Perform SVM Regression on all features\n",
        "# svm_reg_all.fit(X_train_scaled, y_train)\n",
        "# y_pred_svm_all = svm_reg_all.predict(X_test_scaled)\n",
        "# mse_svm_all = mean_squared_error(y_test, y_pred_svm_all)\n",
        "# print(\"Mean squared error using SVM with all features:\", mse_svm_all)\n",
        "\n",
        "# # Perform independent-sample t-tests for SVM\n",
        "# t_stat_svm, p_val_svm = ttest_ind([mse_svm_all], [mse_rf], equal_var=False)\n",
        "# if p_val_svm < 0.1:\n",
        "#     print(\"SVM shows a significant difference between selected and all features.\")\n",
        "# else:\n",
        "#     print(\"No significant difference observed for SVM.\")"
      ],
      "metadata": {
        "colab": {
          "base_uri": "https://localhost:8080/"
        },
        "id": "jELOJt8hb7FZ",
        "outputId": "b7a188f3-aada-4838-a415-52e2acba798f"
      },
      "execution_count": null,
      "outputs": [
        {
          "output_type": "stream",
          "name": "stdout",
          "text": [
            "No significant difference observed for Random Forest.\n",
            "Mean squared error using SVM with all features: 0.5510207911857627\n",
            "No significant difference observed for SVM.\n"
          ]
        },
        {
          "output_type": "stream",
          "name": "stderr",
          "text": [
            "/usr/local/lib/python3.10/dist-packages/scipy/stats/_stats_py.py:1103: RuntimeWarning: divide by zero encountered in divide\n",
            "  var *= np.divide(n, n-ddof)  # to avoid error on division by zero\n",
            "/usr/local/lib/python3.10/dist-packages/scipy/stats/_stats_py.py:1103: RuntimeWarning: invalid value encountered in double_scalars\n",
            "  var *= np.divide(n, n-ddof)  # to avoid error on division by zero\n"
          ]
        }
      ]
    },
    {
      "cell_type": "code",
      "source": [
        "#Linear Regression - red\n",
        "\n",
        "#features = [\"alcohol\", \"residual sugar\", \"citric acid\"]\n",
        "features = [\"alcohol\", \"volatile acidity\"]\n",
        "X = redwine_data[features]\n",
        "y = redwine_data['quality']\n",
        "\n",
        "X_train, X_test, y_train, y_test = train_test_split(X, y, test_size=0.2, random_state=42)\n",
        "\n",
        "model = LinearRegression()\n",
        "model.fit(X_train, y_train)\n",
        "\n",
        "predictions = model.predict(X_test)\n",
        "\n",
        "mse = mean_squared_error(y_test, predictions)\n",
        "r2 = r2_score(y_test, predictions)\n",
        "mae = mean_absolute_error(y_test, predictions)\n",
        "\n",
        "plt.scatter(y_test, predictions, alpha=0.5, label='Actual vs. Predicted', color='blue')\n",
        "plt.plot([min(y_test), max(y_test)], [min(y_test), max(y_test)], '--', color='red', linewidth=2, label='Perfect Prediction')\n",
        "plt.xlabel('Actual Quality')\n",
        "plt.ylabel('Predicted Quality')\n",
        "plt.title('Actual vs. Predicted Quality (redwine)')\n",
        "plt.legend()\n",
        "plt.show()\n",
        "\n",
        "print(f'Mean Squared Error (redwine): {round(mse, 2)}')\n",
        "print(f'R Squared Error (redwine): {round(r2, 2)}')\n",
        "print(f'Mean Absolute Error (redwine): {round(mae, 2)}')\n",
        "\n",
        "\n",
        "\n"
      ],
      "metadata": {
        "id": "mG0XXUiQJ5f3"
      },
      "execution_count": null,
      "outputs": []
    },
    {
      "cell_type": "code",
      "source": [
        "#Linear Regression - white\n",
        "\n",
        "X_w = whitewine_data[features]\n",
        "y_w = whitewine_data[\"quality\"]\n",
        "\n",
        "X_train, X_test, y_train, y_test = train_test_split(X_w, y_w, test_size=0.2, random_state=42)\n",
        "\n",
        "model = LinearRegression()\n",
        "model.fit(X_train, y_train)\n",
        "\n",
        "predictions = model.predict(X_test)\n",
        "\n",
        "mse = mean_squared_error(y_test, predictions)\n",
        "r2 = r2_score(y_test, predictions)\n",
        "mae = mean_absolute_error(y_test, predictions)\n",
        "\n",
        "plt.scatter(y_test, predictions, alpha=0.5, label='Actual vs. Predicted', color='blue')\n",
        "plt.plot([min(y_test), max(y_test)], [min(y_test), max(y_test)], '--', color='red', linewidth=2, label='Perfect Prediction')\n",
        "plt.xlabel('Actual Quality')\n",
        "plt.ylabel('Predicted Quality')\n",
        "plt.title('Actual vs. Predicted Quality (whitewine)')\n",
        "plt.legend()\n",
        "plt.show()\n",
        "\n",
        "print(f'Mean Squared Error (whitewine): {round(mse, 2)}')\n",
        "print(f'R Squared Error (whitewine): {round(r2, 2)}')\n",
        "print(f'Mean Absolute Error (whitewine): {round(mae, 2)}')"
      ],
      "metadata": {
        "id": "yK9ow3pAKKYS"
      },
      "execution_count": null,
      "outputs": []
    },
    {
      "cell_type": "markdown",
      "source": [
        "Decision Tree"
      ],
      "metadata": {
        "id": "GMr7d5J5KOJ9"
      }
    },
    {
      "cell_type": "code",
      "source": [
        "#red\n",
        "from sklearn.tree import DecisionTreeRegressor\n",
        "from sklearn.model_selection import train_test_split\n",
        "from sklearn.metrics import mean_squared_error\n",
        "\n",
        "X_train, X_test, y_train, y_test = train_test_split(X, y, test_size=0.2, random_state=42)\n",
        "\n",
        "model = DecisionTreeRegressor()\n",
        "model.fit(X_train, y_train)\n",
        "\n",
        "predictions_red = model.predict(X_test)\n",
        "\n",
        "\n",
        "mse = mean_squared_error(y_test, predictions_red)\n",
        "r2 = r2_score(y_test, predictions_red)\n",
        "mae = mean_absolute_error(y_test, predictions_red)\n",
        "\n",
        "\n",
        "\n",
        "print(f'Mean squared error (redwine): {round(mse, 2)}')\n",
        "print(f'R squared error (redwine): {round(r2, 2)}')\n",
        "print(f'Mean absolute error (redwine): {round(mae, 2)}')"
      ],
      "metadata": {
        "id": "ZpKwrruVKPuf"
      },
      "execution_count": null,
      "outputs": []
    },
    {
      "cell_type": "code",
      "source": [
        "#white\n",
        "\n",
        "X_train, X_test, y_train, y_test = train_test_split(X_w, y_w, test_size=0.2, random_state=42)\n",
        "\n",
        "model = DecisionTreeRegressor()\n",
        "model.fit(X_train, y_train)\n",
        "\n",
        "predictions_white = model.predict(X_test)\n",
        "\n",
        "# Evaluate the model\n",
        "mse = mean_squared_error(y_test, predictions_white)\n",
        "r2 = r2_score(y_test, predictions_white)\n",
        "mae = mean_absolute_error(y_test, predictions_white)\n",
        "\n",
        "print(f'Mean squared error (whitewine): {round(mse, 2)}')\n",
        "print(f'R Squared Error (whitewine): {round(r2, 2)}')\n",
        "print(f'Mean Absolute Error (whitewine): {round(mae, 2)}')"
      ],
      "metadata": {
        "id": "CBMbsbAGKVVE"
      },
      "execution_count": null,
      "outputs": []
    },
    {
      "cell_type": "markdown",
      "source": [
        "Visualization of Decision Tree"
      ],
      "metadata": {
        "id": "gJta7JGwKeN1"
      }
    },
    {
      "cell_type": "code",
      "source": [
        "from sklearn.tree import plot_tree\n",
        "import matplotlib.pyplot as plt\n",
        "\n",
        "#Plot the decision tree\n",
        "plt.figure(figsize=(12, 8))\n",
        "plot_tree(model, feature_names=X.columns, filled=True, rounded=True, fontsize=10)\n",
        "plt.show()"
      ],
      "metadata": {
        "id": "wrRNfdAqKaYB"
      },
      "execution_count": null,
      "outputs": []
    },
    {
      "cell_type": "markdown",
      "source": [
        "Support Vector Machine"
      ],
      "metadata": {
        "id": "G08Vj1goKjmF"
      }
    },
    {
      "cell_type": "code",
      "source": [
        "#redwine\n",
        "\n",
        "scaler = StandardScaler()\n",
        "X_scaled = scaler.fit_transform(X)\n",
        "\n",
        "X_train, X_test, y_train, y_test = train_test_split(X_scaled, y, test_size=0.2, random_state=42)\n",
        "model = SVR()\n",
        "model.fit(X_train, y_train)\n",
        "predictions_svm_r = model.predict(X_test)\n",
        "\n",
        "mae = mean_absolute_error(y_test, predictions_svm_r)\n",
        "mse = mean_squared_error(y_test, predictions_svm_r)\n",
        "r2 = r2_score(y_test, predictions_svm_r)\n",
        "\n",
        "print(f'Mean squared error (redwine): {round(mse, 2)}')\n",
        "print(f'R squared error (redwine): {round(r2, 2)}')\n",
        "print(f'Mean absolute error (redwine): {round(mae, 2)}')"
      ],
      "metadata": {
        "id": "US_MCNa7Km-O"
      },
      "execution_count": null,
      "outputs": []
    },
    {
      "cell_type": "code",
      "source": [
        "#whitewine\n",
        "\n",
        "scaler = StandardScaler()\n",
        "X_scaled = scaler.fit_transform(X_w)\n",
        "\n",
        "X_train, X_test, y_train, y_test = train_test_split(X_scaled, y_w, test_size=0.2, random_state=42)\n",
        "model = SVR()\n",
        "model.fit(X_train, y_train)\n",
        "predictions_svm_w = model.predict(X_test)\n",
        "\n",
        "mae = mean_absolute_error(y_test, predictions_svm_w)\n",
        "mse = mean_squared_error(y_test, predictions_svm_w)\n",
        "r2 = r2_score(y_test, predictions_svm_w)\n",
        "\n",
        "print(f'Mean squared error (whitewine): {round(mse, 2)}')\n",
        "print(f'R squared error (whitewine): {round(r2, 2)}')\n",
        "print(f'Mean absolute error (whitewine): {round(mae, 2)}')"
      ],
      "metadata": {
        "id": "AAcTir3VKqco"
      },
      "execution_count": null,
      "outputs": []
    },
    {
      "cell_type": "markdown",
      "source": [
        "SVM Decision Boundary on RedWine"
      ],
      "metadata": {
        "id": "_MlyuJ9uKvRM"
      }
    },
    {
      "cell_type": "code",
      "source": [
        "from sklearn.svm import SVC\n",
        "from sklearn.model_selection import train_test_split\n",
        "from mlxtend.plotting import plot_decision_regions\n",
        "import matplotlib.pyplot as plt\n",
        "import pandas as pd\n",
        "\n",
        "# Assuming df is your dataframe containing the wine dataset\n",
        "# Replace 'quality' with the actual column name containing the target variable\n",
        "X = redwine_data.drop('quality', axis=1).values  # Convert to NumPy array\n",
        "y = redwine_data['quality'].values  # Convert to NumPy array\n",
        "\n",
        "# Select the first two features for simplicity\n",
        "X_2d = X[:, [1, 10]]\n",
        "\n",
        "# Split the dataset into training and testing sets\n",
        "X_train, X_test, y_train, y_test = train_test_split(X_2d, y, test_size=0.2, random_state=42)\n",
        "\n",
        "# Create an SVM classifier with a linear kernel\n",
        "svm = SVC(kernel='linear')\n",
        "svm.fit(X_train, y_train)\n",
        "\n",
        "# Plot decision boundary\n",
        "plt.figure(figsize=(10, 6))\n",
        "plot_decision_regions(X_train, y_train, clf=svm, legend=2)\n",
        "\n",
        "# Add labels and title\n",
        "plt.xlabel(\"Volatile Acidity\")\n",
        "plt.ylabel(\"Alchohol\")\n",
        "plt.title('SVM Decision Boundary on Redwine Dataset (Volatile Acidity and Alchohol)')\n",
        "\n",
        "# Show the plot\n",
        "plt.show()"
      ],
      "metadata": {
        "id": "0tP2pBqmK0ot"
      },
      "execution_count": null,
      "outputs": []
    },
    {
      "cell_type": "markdown",
      "source": [
        "SVM Decision Tree on White wine"
      ],
      "metadata": {
        "id": "afkAvA_cK5Bt"
      }
    },
    {
      "cell_type": "code",
      "source": [
        "from sklearn.svm import SVC\n",
        "from sklearn.model_selection import train_test_split\n",
        "from mlxtend.plotting import plot_decision_regions\n",
        "import matplotlib.pyplot as plt\n",
        "import pandas as pd\n",
        "\n",
        "# Assuming df is your dataframe containing the wine dataset\n",
        "# Replace 'quality' with the actual column name containing the target variable\n",
        "X = whitewine_data.drop('quality', axis=1).values  # Convert to NumPy array\n",
        "y = whitewine_data['quality'].values  # Convert to NumPy array\n",
        "\n",
        "X_2d = X[:, [1, 10]]\n",
        "\n",
        "# Split the dataset into training and testing sets\n",
        "X_train, X_test, y_train, y_test = train_test_split(X_2d, y, test_size=0.2, random_state=42)\n",
        "\n",
        "# Create an SVM classifier with a linear kernel\n",
        "svm = SVC(kernel='linear')\n",
        "svm.fit(X_train, y_train)\n",
        "\n",
        "# Plot decision boundary\n",
        "plt.figure(figsize=(10, 6))\n",
        "plot_decision_regions(X_train, y_train, clf=svm, legend=2)\n",
        "\n",
        "# Add labels and title\n",
        "plt.xlabel(\"Volatile Acidity\")\n",
        "plt.ylabel(\"Alchohol\")\n",
        "plt.title('SVM Decision Boundary on Whitewine Dataset (Volatile Acidity and Alchohol)')\n",
        "\n",
        "# Show the plot\n",
        "plt.show()"
      ],
      "metadata": {
        "id": "E_1m5jXrK9FW"
      },
      "execution_count": null,
      "outputs": []
    }
  ]
}